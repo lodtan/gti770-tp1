{
 "cells": [
  {
   "cell_type": "markdown",
   "metadata": {},
   "source": [
    "# Laboratoire 1 : Extraction de primitives\n",
    "#### Département du génie logiciel et des technologies de l’information\n",
    "\n",
    "| Étudiants             | LEMARCHANT HUGO - AP85480 | TAN ELODIE - TANE25619607   | \n",
    "|-----------------------|---------------------------------------------------------|\n",
    "| Cours                 | GTI770 - Systèmes intelligents et apprentissage machine |\n",
    "| Session               | AUTOMNE 2018                                            |\n",
    "| Groupe                | c                                                       |\n",
    "| Numéro du laboratoire | 1                                                       |\n",
    "| Professeur            | Prof. Hervé Lombaert                                    |\n",
    "| Chargé de laboratoire | Pierre-Luc Delisle                                      |\n",
    "| Date                  | 2018/09/27                                              |"
   ]
  },
  {
   "cell_type": "code",
   "execution_count": 33,
   "metadata": {},
   "outputs": [],
   "source": [
    "# -*- coding:utf-8 -*-\n",
    "import numpy as np\n",
    "import cv2\n",
    "import core\n",
    "import matplotlib.pyplot as plt\n",
    "import sys\n",
    "import os, random\n",
    "import math\n",
    "from sklearn import tree\n",
    "import scipy.ndimage as nd\n",
    "import csv"
   ]
  },
  {
   "cell_type": "code",
   "execution_count": 36,
   "metadata": {},
   "outputs": [],
   "source": [
    "# Hugo\n",
    "pathHugo = \"E:\\\\DocsPerso\\\\DocsBoulot\\\\ETS-MTL\\\\GTI770-02-SystIntel&MachineLearning\\\\data\\\\data\\\\images\\\\\"\n",
    "# JS\n",
    "path= '/Users/jslecointre/Documents/DataScience/courses/MACHINE_LEARNING/TP/data/images/'\n",
    "pathElodie = '/Users/raen/Documents/UTC/ETS/GTI770/GTI770-Data/images/'\n",
    "exts = \".jpg\"\n",
    "nb_img = \"107231\"\n",
    "\n",
    "path = path + nb_img + exts\n",
    "imgFile = cv2.imread(pathHugo + nb_img + exts)\n",
    "GP=core.GalaxyProcessor(path)"
   ]
  },
  {
   "cell_type": "markdown",
   "metadata": {},
   "source": [
    "### Feature #1 ratio_aspect"
   ]
  },
  {
   "cell_type": "code",
   "execution_count": 105,
   "metadata": {},
   "outputs": [],
   "source": [
    "def get_ratio_aspect(img, threshold):\n",
    "    \"\"\"\n",
    "    Calculate the ratio of the bounding revtangle containing the largest contoured element. Most of the time the galaxy.\n",
    "    \n",
    "    args : image read by the cv2.imread function.\n",
    "    \n",
    "    Returns the ratio and the values of width and lenght\n",
    "    \"\"\"\n",
    "    if not isinstance(img, np.ndarray):\n",
    "        return -1, (None, None)\n",
    "    img = cv2.cvtColor(img, cv2.COLOR_BGR2GRAY)\n",
    "    ret,thresh = cv2.threshold(img,threshold,255,0)\n",
    "    im2,contours,hierarchy = cv2.findContours(thresh, 2, 2)\n",
    "    cnt = max(contours, key = lambda cnt : len(cnt))\n",
    "    rect = cv2.minAreaRect(cnt)\n",
    "    ratio = rect[1][0]/(rect[1][1]+0.0000000001)\n",
    "    #print(\"ratio = {}\".format(ratio))\n",
    "    return ratio, (rect[1][0], rect[1][1])\n",
    "\n",
    "ratio, values = get_ratio_aspect(imgFile, 127)"
   ]
  },
  {
   "cell_type": "code",
   "execution_count": 119,
   "metadata": {},
   "outputs": [
    {
     "name": "stdout",
     "output_type": "stream",
     "text": [
      "+ bleus représentent smooth\n",
      "+ oranges représentent spiral\n"
     ]
    },
    {
     "data": {
      "image/png": "[encoded data removed]",
      "text/plain": [
       "<Figure size 432x288 with 1 Axes>"
      ]
     },
     "metadata": {
      "needs_background": "light"
     },
     "output_type": "display_data"
    }
   ],
   "source": [
    "def test_ratio_feature(threshold):\n",
    "    with open('galaxy/galaxy.csv', 'r') as f:  \n",
    "        reader = csv.reader(f)  \n",
    "        count = 0\n",
    "        X = np.array([[None, None]])\n",
    "        Y = [None]\n",
    "        for row in reader:\n",
    "            if (count >= 1 and count <= 500) or (count >= 11164 and count <= 11663):\n",
    "                image = cv2.imread(pathHugo + \"/{}.jpg\".format(row[0]))\n",
    "                ratio, values = get_ratio_aspect(image, threshold)\n",
    "                if not (ratio == -1):\n",
    "                    X = np.append(X, [[values[0], values[1]]], axis=0)\n",
    "                    Y.append(row[1])\n",
    "            count += 1\n",
    "    print(\"+ bleus représentent {}\".format(Y[1]))\n",
    "    print(\"+ oranges représentent {}\".format(Y[-1]))\n",
    "    plt.plot(X[1:501,0], X[1:501,1], '+')\n",
    "    plt.plot(X[501:1001,0], X[501:1001,1], '+')\n",
    "    \n",
    "test_ratio_feature(95)"
   ]
  },
  {
   "cell_type": "markdown",
   "metadata": {},
   "source": [
    "### Feature #2 CCV"
   ]
  },
  {
   "cell_type": "code",
   "execution_count": 185,
   "metadata": {},
   "outputs": [],
   "source": [
    "def QuantizeColor(img, N=64):\n",
    "    \n",
    "    div = 256//N\n",
    "    rgb = cv2.split(img)\n",
    "    quantized_list = []\n",
    "    \n",
    "    # quantize N colors for each channel\n",
    "    for ch in rgb:\n",
    "        vf = np.vectorize(lambda x, div: int(x//div)*div)\n",
    "        quantized = vf(ch, div)\n",
    "        quantized_list.append(quantized.astype(np.uint8))\n",
    "    \n",
    "    # Merge the channels after quantization\n",
    "    d_img = cv2.merge(quantized_list)\n",
    "    \n",
    "    return d_img\n",
    "\n",
    "def plt_display(title,img):\n",
    "    \n",
    "    print('image: {0} shape: {1}'.format(title,img.shape))\n",
    "    plt.imshow(img)\n",
    "    plt.title(title)\n",
    "    plt.show() \n",
    "    \n",
    "def get_ccv(src,Threshold,N,prt=False):\n",
    "    \n",
    "    img = src.copy()\n",
    "    if prt:\n",
    "        plt_display('Original image',img)\n",
    "    \n",
    "    (row, col, channels) = img.shape\n",
    "    #print('shape : {0},{1},{2}'.format(row, col, channels))\n",
    "\n",
    "    # blur\n",
    "    img = cv2.GaussianBlur(img, (3, 3), 0)\n",
    "    if prt:\n",
    "        plt_display('After blur',img)\n",
    "\n",
    "    # quantize color\n",
    "\n",
    "    img = QuantizeColor(img, N)\n",
    "    if prt:\n",
    "        plt_display('After Quantization',img)\n",
    "    \n",
    "    bgr = cv2.split(img)\n",
    "    #print('b={0},g={1},r={2}'.format(len(bgr[0]),len(bgr[1]),len(bgr[2])))\n",
    "\n",
    "    # bgr = cv2.split(cv2.cvtColor(img, cv2.COLOR_BGR2HSV))    \n",
    "    alpha = np.zeros(N)\n",
    "    beta = np.zeros(N)\n",
    "\n",
    "    # labeling\n",
    "    for (i, ch) in enumerate(bgr):\n",
    "        (ret, th) = cv2.threshold(ch, 127, 255, 0)\n",
    "        \n",
    "        if prt:\n",
    "            plt_display('after threshold',img)   \n",
    "    \n",
    "        (ret, labeled, stat, centroids) = cv2.connectedComponentsWithStats(th, None,cv2.CC_STAT_AREA, None, connectivity=8)\n",
    "\n",
    "        # generate ccv\n",
    "        print('stat : {0}'.format(stat.shape))\n",
    "        areas = [[v[4], label_idx] for (label_idx, v) in enumerate(stat)]\n",
    "        coord = [[v[0], v[1]] for (label_idx, v) in enumerate(stat)]\n",
    "\n",
    "        # Counting coherent and incoherent pixels\n",
    "        for (a, c) in zip(areas, coord):\n",
    "            area_size = a[0]\n",
    "            (x, y) = (c[0], c[1])\n",
    "            \n",
    "            if x < ch.shape[1] and y < ch.shape[0]:\n",
    "                bin_idx = int(ch[y, x] // (256 // N))\n",
    "                if area_size >= Threshold:\n",
    "                    # COHERENT PIXELS (belong to area > Threshold pixels )\n",
    "                    alpha[bin_idx]+= area_size\n",
    "                else:\n",
    "                    # INCOHERENT PIXELS (belong to area <= Threshold pixels )\n",
    "                    beta[bin_idx]+= area_size\n",
    "    \n",
    "    return (alpha, beta)\n",
    "\n",
    "def ccv_plot(img,alpha,beta,N):\n",
    "\n",
    "    X = [x for x in range(N * 2)]\n",
    "    Y = alpha.tolist() + beta.tolist()\n",
    "\n",
    "    with open('ccv.csv', 'w') as f:\n",
    "        f.write(str(Y))\n",
    "    \n",
    "    im = cv2.cvtColor(img, cv2.COLOR_BGR2RGB)\n",
    "    plt.subplot(2, 1, 1)\n",
    "    plt.imshow(im)\n",
    "    plt.subplot(2, 1, 2)\n",
    "    plt.bar(X, Y, align='center')\n",
    "\n",
    "    plt.yscale('log')\n",
    "   \n",
    "    plt.show()"
   ]
  },
  {
   "cell_type": "code",
   "execution_count": 188,
   "metadata": {
    "scrolled": false
   },
   "outputs": [
    {
     "name": "stdout",
     "output_type": "stream",
     "text": [
      "stat : (2, 5)\n",
      "stat : (2, 5)\n",
      "stat : (1, 5)\n"
     ]
    },
    {
     "data": {
      "image/png": "[encoded data removed]",
      "text/plain": [
       "<Figure size 432x288 with 2 Axes>"
      ]
     },
     "metadata": {},
     "output_type": "display_data"
    }
   ],
   "source": [
    "path='/Users/jslecointre/Documents/DataScience/courses/MACHINE_LEARNING/TP/data/images/'\n",
    "filename=random.choice(os.listdir(path))\n",
    "img = cv2.imread('{0}{1}'.format(path,filename))\n",
    "im_color=cv2.cvtColor(img, cv2.COLOR_BGR2RGB)\n",
    "im_cropped=GP.crop_image(im_color, 212-80, 212+80)\n",
    "#plt_display('image cropped 160x160',im_cropped)   \n",
    "#im_grey=cv2.cvtColor(img.astype(\"uint8\"), cv2.COLOR_BGR2GRAY)\n",
    "\n",
    "N=32\n",
    "coherence_threshold_percent=0.01\n",
    "alpha, beta = get_ccv(im_cropped, Threshold=im_cropped.shape[0]**2*coherence_threshold_percent,N=N,prt=False)\n",
    "#print('{0},{1}'.format(alpha, beta))\n",
    "CCV = alpha.tolist()+beta.tolist()\n",
    "assert(sum(CCV) == im_cropped.size)\n",
    "assert(N == len(alpha) and N == len(beta))\n",
    "\n",
    "ccv_plot(im_cropped, alpha, beta, N)"
   ]
  },
  {
   "cell_type": "markdown",
   "metadata": {},
   "source": [
    "### Feature #3 Circularity"
   ]
  },
  {
   "cell_type": "code",
   "execution_count": 43,
   "metadata": {},
   "outputs": [],
   "source": [
    "def calculateCircularity(img):\n",
    "    \"\"\"calculateCircularity \n",
    "    Fonction calculant la circularité d'une image de galaxie grâce à la fonction C = 4pi * A/P2.\n",
    "\n",
    "\n",
    "    Args:\n",
    "        img (int): L'image pour laquelle nous voulons calculer la circularité.\n",
    "\n",
    "    Returns:\n",
    "        circularity: La valeur de retour. Elle est définie entre 0 et 1. \n",
    "                    Plus la valeur est proche de 1, plus la galaxie est circulaire.\n",
    "\n",
    "    \"\"\"\n",
    "    \n",
    "    log = nd.gaussian_laplace(img, sigma=20)\n",
    "    img = img - log\n",
    "    \n",
    "    gray_img = cv2.cvtColor(img, cv2.COLOR_BGR2GRAY); \n",
    "    ret, thresh = cv2.threshold(gray_img, 0, 255, cv2.THRESH_BINARY+cv2.THRESH_OTSU)\n",
    "    kernel = np.ones((3,3),np.uint8)\n",
    "    dilation = cv2.dilate(thresh,kernel,iterations = 1)\n",
    "\n",
    "\n",
    "    # Get moment to calculate area\n",
    "    img2, contours, hierarchy = cv2.findContours(thresh, 1, 2)\n",
    "    contour = contours[0]\n",
    "    M = cv2.moments(contour)\n",
    "    area = M['m00']\n",
    "    \n",
    "    #Get perimeter : \n",
    "    perimeter = cv2.arcLength(contour,True)\n",
    "    if perimeter == 0:\n",
    "        perimeter = 0.1\n",
    "    \n",
    "    # Circularity\n",
    "    circularity = 4 * math.pi * area / (perimeter**2)\n",
    "    \n",
    "    return circularity\n",
    "\n"
   ]
  },
  {
   "cell_type": "code",
   "execution_count": 47,
   "metadata": {},
   "outputs": [
    {
     "ename": "FileNotFoundError",
     "evalue": "[Errno 2] No such file or directory: '/Users/jslecointre/Documents/DataScience/courses/MACHINE_LEARNING/TP/data/images/107231.jpg'",
     "output_type": "error",
     "traceback": [
      "\u001b[0;31m---------------------------------------------------------------------------\u001b[0m",
      "\u001b[0;31mFileNotFoundError\u001b[0m                         Traceback (most recent call last)",
      "\u001b[0;32m<ipython-input-47-cc653ef1fabf>\u001b[0m in \u001b[0;36m<module>\u001b[0;34m()\u001b[0m\n\u001b[0;32m----> 1\u001b[0;31m \u001b[0mimage\u001b[0m \u001b[0;34m=\u001b[0m \u001b[0mplt\u001b[0m\u001b[0;34m.\u001b[0m\u001b[0mimread\u001b[0m\u001b[0;34m(\u001b[0m\u001b[0mpath\u001b[0m\u001b[0;34m)\u001b[0m\u001b[0;34m\u001b[0m\u001b[0m\n\u001b[0m\u001b[1;32m      2\u001b[0m \u001b[0mplt\u001b[0m\u001b[0;34m.\u001b[0m\u001b[0mimshow\u001b[0m\u001b[0;34m(\u001b[0m\u001b[0mimage\u001b[0m\u001b[0;34m)\u001b[0m\u001b[0;34m\u001b[0m\u001b[0m\n\u001b[1;32m      3\u001b[0m \u001b[0mplt\u001b[0m\u001b[0;34m.\u001b[0m\u001b[0mshow\u001b[0m\u001b[0;34m(\u001b[0m\u001b[0;34m)\u001b[0m\u001b[0;34m\u001b[0m\u001b[0m\n\u001b[1;32m      4\u001b[0m \u001b[0;34m\u001b[0m\u001b[0m\n\u001b[1;32m      5\u001b[0m \u001b[0mcalculateCircularity\u001b[0m\u001b[0;34m(\u001b[0m\u001b[0mimage\u001b[0m\u001b[0;34m)\u001b[0m\u001b[0;34m\u001b[0m\u001b[0m\n",
      "\u001b[0;32m~/anaconda3/envs/gti770_env/lib/python3.5/site-packages/matplotlib/pyplot.py\u001b[0m in \u001b[0;36mimread\u001b[0;34m(*args, **kwargs)\u001b[0m\n\u001b[1;32m   2371\u001b[0m \u001b[0;34m@\u001b[0m\u001b[0mdocstring\u001b[0m\u001b[0;34m.\u001b[0m\u001b[0mcopy_dedent\u001b[0m\u001b[0;34m(\u001b[0m\u001b[0m_imread\u001b[0m\u001b[0;34m)\u001b[0m\u001b[0;34m\u001b[0m\u001b[0m\n\u001b[1;32m   2372\u001b[0m \u001b[0;32mdef\u001b[0m \u001b[0mimread\u001b[0m\u001b[0;34m(\u001b[0m\u001b[0;34m*\u001b[0m\u001b[0margs\u001b[0m\u001b[0;34m,\u001b[0m \u001b[0;34m**\u001b[0m\u001b[0mkwargs\u001b[0m\u001b[0;34m)\u001b[0m\u001b[0;34m:\u001b[0m\u001b[0;34m\u001b[0m\u001b[0m\n\u001b[0;32m-> 2373\u001b[0;31m     \u001b[0;32mreturn\u001b[0m \u001b[0m_imread\u001b[0m\u001b[0;34m(\u001b[0m\u001b[0;34m*\u001b[0m\u001b[0margs\u001b[0m\u001b[0;34m,\u001b[0m \u001b[0;34m**\u001b[0m\u001b[0mkwargs\u001b[0m\u001b[0;34m)\u001b[0m\u001b[0;34m\u001b[0m\u001b[0m\n\u001b[0m\u001b[1;32m   2374\u001b[0m \u001b[0;34m\u001b[0m\u001b[0m\n\u001b[1;32m   2375\u001b[0m \u001b[0;34m\u001b[0m\u001b[0m\n",
      "\u001b[0;32m~/anaconda3/envs/gti770_env/lib/python3.5/site-packages/matplotlib/image.py\u001b[0m in \u001b[0;36mimread\u001b[0;34m(fname, format)\u001b[0m\n\u001b[1;32m   1355\u001b[0m \u001b[0;34m\u001b[0m\u001b[0m\n\u001b[1;32m   1356\u001b[0m     \u001b[0;32mif\u001b[0m \u001b[0mext\u001b[0m \u001b[0;32mnot\u001b[0m \u001b[0;32min\u001b[0m \u001b[0mhandlers\u001b[0m\u001b[0;34m:\u001b[0m\u001b[0;34m\u001b[0m\u001b[0m\n\u001b[0;32m-> 1357\u001b[0;31m         \u001b[0mim\u001b[0m \u001b[0;34m=\u001b[0m \u001b[0mpilread\u001b[0m\u001b[0;34m(\u001b[0m\u001b[0mfname\u001b[0m\u001b[0;34m)\u001b[0m\u001b[0;34m\u001b[0m\u001b[0m\n\u001b[0m\u001b[1;32m   1358\u001b[0m         \u001b[0;32mif\u001b[0m \u001b[0mim\u001b[0m \u001b[0;32mis\u001b[0m \u001b[0;32mNone\u001b[0m\u001b[0;34m:\u001b[0m\u001b[0;34m\u001b[0m\u001b[0m\n\u001b[1;32m   1359\u001b[0m             raise ValueError('Only know how to handle extensions: %s; '\n",
      "\u001b[0;32m~/anaconda3/envs/gti770_env/lib/python3.5/site-packages/matplotlib/image.py\u001b[0m in \u001b[0;36mpilread\u001b[0;34m(fname)\u001b[0m\n\u001b[1;32m   1333\u001b[0m         \u001b[0;32mexcept\u001b[0m \u001b[0mImportError\u001b[0m\u001b[0;34m:\u001b[0m\u001b[0;34m\u001b[0m\u001b[0m\n\u001b[1;32m   1334\u001b[0m             \u001b[0;32mreturn\u001b[0m \u001b[0;32mNone\u001b[0m\u001b[0;34m\u001b[0m\u001b[0m\n\u001b[0;32m-> 1335\u001b[0;31m         \u001b[0;32mwith\u001b[0m \u001b[0mImage\u001b[0m\u001b[0;34m.\u001b[0m\u001b[0mopen\u001b[0m\u001b[0;34m(\u001b[0m\u001b[0mfname\u001b[0m\u001b[0;34m)\u001b[0m \u001b[0;32mas\u001b[0m \u001b[0mimage\u001b[0m\u001b[0;34m:\u001b[0m\u001b[0;34m\u001b[0m\u001b[0m\n\u001b[0m\u001b[1;32m   1336\u001b[0m             \u001b[0;32mreturn\u001b[0m \u001b[0mpil_to_array\u001b[0m\u001b[0;34m(\u001b[0m\u001b[0mimage\u001b[0m\u001b[0;34m)\u001b[0m\u001b[0;34m\u001b[0m\u001b[0m\n\u001b[1;32m   1337\u001b[0m \u001b[0;34m\u001b[0m\u001b[0m\n",
      "\u001b[0;32m~/anaconda3/envs/gti770_env/lib/python3.5/site-packages/PIL/Image.py\u001b[0m in \u001b[0;36mopen\u001b[0;34m(fp, mode)\u001b[0m\n\u001b[1;32m   2578\u001b[0m \u001b[0;34m\u001b[0m\u001b[0m\n\u001b[1;32m   2579\u001b[0m     \u001b[0;32mif\u001b[0m \u001b[0mfilename\u001b[0m\u001b[0;34m:\u001b[0m\u001b[0;34m\u001b[0m\u001b[0m\n\u001b[0;32m-> 2580\u001b[0;31m         \u001b[0mfp\u001b[0m \u001b[0;34m=\u001b[0m \u001b[0mbuiltins\u001b[0m\u001b[0;34m.\u001b[0m\u001b[0mopen\u001b[0m\u001b[0;34m(\u001b[0m\u001b[0mfilename\u001b[0m\u001b[0;34m,\u001b[0m \u001b[0;34m\"rb\"\u001b[0m\u001b[0;34m)\u001b[0m\u001b[0;34m\u001b[0m\u001b[0m\n\u001b[0m\u001b[1;32m   2581\u001b[0m         \u001b[0mexclusive_fp\u001b[0m \u001b[0;34m=\u001b[0m \u001b[0;32mTrue\u001b[0m\u001b[0;34m\u001b[0m\u001b[0m\n\u001b[1;32m   2582\u001b[0m \u001b[0;34m\u001b[0m\u001b[0m\n",
      "\u001b[0;31mFileNotFoundError\u001b[0m: [Errno 2] No such file or directory: '/Users/jslecointre/Documents/DataScience/courses/MACHINE_LEARNING/TP/data/images/107231.jpg'"
     ]
    }
   ],
   "source": [
    "image = plt.imread(path)\n",
    "plt.imshow(image)\n",
    "plt.show()\n",
    "\n",
    "calculateCircularity(image)"
   ]
  },
  {
   "cell_type": "markdown",
   "metadata": {},
   "source": [
    "## Fonction calcul des primitives"
   ]
  },
  {
   "cell_type": "code",
   "execution_count": 144,
   "metadata": {},
   "outputs": [
    {
     "name": "stderr",
     "output_type": "stream",
     "text": [
      "/Users/raen/anaconda3/envs/gti770_env/lib/python3.5/site-packages/ipykernel/__main__.py:2: DeprecationWarning: 'U' mode is deprecated\n",
      "  from ipykernel import kernelapp as app\n"
     ]
    }
   ],
   "source": [
    "def calculateAttributes(path):\n",
    "    with open('galaxy/galaxy.csv', 'r') as f:  \n",
    "        \n",
    "        reader = csv.reader(f)  \n",
    "        count = 0\n",
    "        X = []\n",
    "        Y = []\n",
    "        attributes = []\n",
    "        for row in reader:\n",
    "            if (count >= 1 and count <= 50) or (count >= 11164 and count <= 11213):\n",
    "                image = cv2.imread(path + \"/{}.jpg\".format(row[0]))\n",
    "                X.append([row[0], image]) \n",
    "                Y.append([row[0], row[1]])\n",
    "            count += 1\n",
    "    \n",
    "    for image in X:\n",
    "        ratio = get_ratio_aspect(image[1])\n",
    "        circularity = calculateCircularity(image[1])\n",
    "        attributes.append([image[0], ratio, circularity])\n",
    "    attributes = np.asarray(attributes)\n",
    "    return attributes\n",
    "\n",
    "attributes = calculateAttributes(pathElodie)\n"
   ]
  },
  {
   "cell_type": "code",
   "execution_count": 135,
   "metadata": {},
   "outputs": [
    {
     "data": {
      "image/png": "[encoded data removed]",
      "text/plain": [
       "<Figure size 720x432 with 1 Axes>"
      ]
     },
     "metadata": {
      "needs_background": "light"
     },
     "output_type": "display_data"
    }
   ],
   "source": [
    "circularity = [float(line[2]) for line in attributes]\n",
    "\n",
    "plt.figure(figsize=(10,6))\n",
    "plt.plot(circularity[0:50], 50 * [1], \"o\", label = 'smooth')\n",
    "plt.plot(circularity[51:100], 49 * [1], \"o\", label = 'spiral')\n",
    "plt.xlabel('Circularity')\n",
    "plt.xticks(rotation=90)\n",
    "plt.legend()\n",
    "plt.show()"
   ]
  },
  {
   "cell_type": "code",
   "execution_count": 143,
   "metadata": {},
   "outputs": [
    {
     "data": {
      "image/png": "[encoded data removed]",
      "text/plain": [
       "<Figure size 432x288 with 1 Axes>"
      ]
     },
     "metadata": {
      "needs_background": "light"
     },
     "output_type": "display_data"
    }
   ],
   "source": [
    "ratio = [float(line[1]) for line in attributes]\n",
    "\n",
    "plt.plot(ratio[0:49], circularity[0:49], 'o', label='smooth')\n",
    "plt.plot(ratio[50:99], circularity[50:99], 'o', label='spiral')\n",
    "plt.xlabel('Ratio-aspect')\n",
    "plt.ylabel('Circularity')\n",
    "plt.legend()\n",
    "plt.show()"
   ]
  },
  {
   "cell_type": "code",
   "execution_count": null,
   "metadata": {},
   "outputs": [],
   "source": [
    "# utiliser les arbres de décision\n",
    "X = [[0, 0], [1, 1]]\n",
    "Y = [0, 1]\n",
    "clf = tree.DecisionTreeClassifier()\n",
    "clf = clf.fit(data, classes, max_depth = 3)"
   ]
  },
  {
   "cell_type": "markdown",
   "metadata": {},
   "source": [
    "## Questions"
   ]
  },
  {
   "cell_type": "markdown",
   "metadata": {},
   "source": [
    "### Question 1 : Introduction et revue de la littérature\n",
    "\n",
    "Après lecture des différents papiers de recherche, nous nous sommes concentré sur Morphological classification of galaxies into spirals and non-spirals (D. Dhami). En effet, ses travaux répondent parfaitement à la problématique qui nous est posée, c'est à dire la différenciation entre les galaxies rondes et celles en forme de spirale. Plusieurs caractéristiques de galaxies sont étudiées dans sa recherche, et elle explicite aussi celles qui fonctionnent le mieux. \n"
   ]
  },
  {
   "cell_type": "markdown",
   "metadata": {},
   "source": [
    "### Question 2\n",
    "\n",
    "Nous avons donc choisi d'étudier :\n",
    "\n",
    "- La circularité\n",
    "- CCV\n",
    "- Ratio-aspect\n",
    "\n",
    "Pour ce qui est de la circularité, nous avons effectué plusieurs recherches sur comment la calculer. La plupart des sites mentionnent la formule $ C = 4 * \\pi * area / P^2 $."
   ]
  },
  {
   "cell_type": "markdown",
   "metadata": {},
   "source": [
    "### Question 3"
   ]
  },
  {
   "cell_type": "markdown",
   "metadata": {},
   "source": [
    "### Question 4"
   ]
  },
  {
   "cell_type": "markdown",
   "metadata": {},
   "source": [
    "### Question 5"
   ]
  },
  {
   "cell_type": "markdown",
   "metadata": {},
   "source": [
    "### Conclusion"
   ]
  },
  {
   "cell_type": "markdown",
   "metadata": {},
   "source": [
    "### Bibliographie"
   ]
  }
 ],
 "metadata": {
  "kernelspec": {
   "display_name": "Python [default]",
   "language": "python",
   "name": "python3"
  },
  "language_info": {
   "codemirror_mode": {
    "name": "ipython",
    "version": 3
   },
   "file_extension": ".py",
   "mimetype": "text/x-python",
   "name": "python",
   "nbconvert_exporter": "python",
   "pygments_lexer": "ipython3",
   "version": "3.5.6"
  }
 },
 "nbformat": 4,
 "nbformat_minor": 2
}
