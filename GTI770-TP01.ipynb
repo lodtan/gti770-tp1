{
 "cells": [
  {
   "cell_type": "markdown",
   "metadata": {},
   "source": [
    "# Laboratoire 1 : Extraction de primitives\n",
    "#### Département du génie logiciel et des technologies de l’information\n",
    "\n",
    "| Étudiants             | LEMARCHANT HUGO - AP85480 | NOMS - CODE PERMANENT       |\n",
    "|-----------------------|---------------------------------------------------------|\n",
    "| Cours                 | GTI770 - Systèmes intelligents et apprentissage machine |\n",
    "| Session               | AUTOMNE 2018                                            |\n",
    "| Groupe                | C                                                       |\n",
    "| Numéro du laboratoire | 1                                                       |\n",
    "| Professeur            | Prof. Hervé Lombaert                                    |\n",
    "| Chargé de laboratoire | Pierre-Luc Delisle                                      |\n",
    "| Date                  | 2018/09/27                                              |"
   ]
  },
  {
   "cell_type": "code",
   "execution_count": 72,
   "metadata": {
    "collapsed": true
   },
   "outputs": [],
   "source": [
    "# -*- coding:utf-8 -*-\n",
    "import numpy as np\n",
    "import cv2\n",
    "import core\n",
    "import matplotlib.pyplot as plt\n",
    "import sys\n",
    "import numpy as np\n",
    "import os, random\n",
    "import cv2"
   ]
  },
  {
   "cell_type": "code",
   "execution_count": 77,
   "metadata": {},
   "outputs": [],
   "source": [
    "# Hugo\n",
    "path = \"E:\\\\DocsPerso\\\\DocsBoulot\\\\ETS-MTL\\\\GTI770-02-SystIntel&MachineLearning\\\\data\\\\data\\\\images\\\\\"\n",
    "# JS\n",
    "path= '/Users/jslecointre/Documents/DataScience/courses/MACHINE_LEARNING/TP/data/images/'\n",
    "exts = \".jpg\"\n",
    "nb_img = \"100520\"\n",
    "\n",
    "path = path + nb_img + exts\n",
    "\n",
    "GP=core.GalaxyProcessor(path)"
   ]
  },
  {
   "cell_type": "markdown",
   "metadata": {},
   "source": [
    "### Feature #1 ratio_aspect"
   ]
  },
  {
   "cell_type": "code",
   "execution_count": 78,
   "metadata": {},
   "outputs": [
    {
     "name": "stdout",
     "output_type": "stream",
     "text": [
      "ratio = 0.2600791276108834\n"
     ]
    }
   ],
   "source": [
    "def get_ratio_aspect(image_path):\n",
    "    img = cv2.imread(image_path)\n",
    "    img = cv2.cvtColor(img, cv2.COLOR_BGR2GRAY)\n",
    "    ret,thresh = cv2.threshold(img,50,255,0)\n",
    "    im2,contours,hierarchy = cv2.findContours(thresh, 2, 2)\n",
    "    rect = []\n",
    "    for cnt in contours:\n",
    "        rect.append(cv2.minAreaRect(cnt))\n",
    "    bestRect = max(rect, key = lambda rect : rect[1][0]*rect[1][1])\n",
    "    box = cv2.boxPoints(bestRect)\n",
    "    box = np.int0(box)\n",
    "    cv2.drawContours(img,[box],0,(0,0,255),2)\n",
    "    ratio = bestRect[1][0]/(bestRect[1][1]+0.0000000001)\n",
    "    print(\"ratio = {}\".format(ratio))\n",
    "    return bestRect[1][0]/(bestRect[1][1]+0.0000000001)\n",
    "\n",
    "ratio = get_ratio_aspect(path)"
   ]
  },
  {
   "cell_type": "markdown",
   "metadata": {},
   "source": [
    "### Feature #2 CCV"
   ]
  },
  {
   "cell_type": "code",
   "execution_count": 185,
   "metadata": {},
   "outputs": [],
   "source": [
    "def QuantizeColor(img, N=64):\n",
    "    \n",
    "    div = 256//N\n",
    "    rgb = cv2.split(img)\n",
    "    quantized_list = []\n",
    "    \n",
    "    # quantize N colors for each channel\n",
    "    for ch in rgb:\n",
    "        vf = np.vectorize(lambda x, div: int(x//div)*div)\n",
    "        quantized = vf(ch, div)\n",
    "        quantized_list.append(quantized.astype(np.uint8))\n",
    "    \n",
    "    # Merge the channels after quantization\n",
    "    d_img = cv2.merge(quantized_list)\n",
    "    \n",
    "    return d_img\n",
    "\n",
    "def plt_display(title,img):\n",
    "    \n",
    "    print('image: {0} shape: {1}'.format(title,img.shape))\n",
    "    plt.imshow(img)\n",
    "    plt.title(title)\n",
    "    plt.show() \n",
    "    \n",
    "def get_ccv(src,Threshold,N,prt=False):\n",
    "    \n",
    "    img = src.copy()\n",
    "    if prt:\n",
    "        plt_display('Original image',img)\n",
    "    \n",
    "    (row, col, channels) = img.shape\n",
    "    #print('shape : {0},{1},{2}'.format(row, col, channels))\n",
    "\n",
    "    # blur\n",
    "    img = cv2.GaussianBlur(img, (3, 3), 0)\n",
    "    if prt:\n",
    "        plt_display('After blur',img)\n",
    "\n",
    "    # quantize color\n",
    "\n",
    "    img = QuantizeColor(img, N)\n",
    "    if prt:\n",
    "        plt_display('After Quantization',img)\n",
    "    \n",
    "    bgr = cv2.split(img)\n",
    "    #print('b={0},g={1},r={2}'.format(len(bgr[0]),len(bgr[1]),len(bgr[2])))\n",
    "\n",
    "    # bgr = cv2.split(cv2.cvtColor(img, cv2.COLOR_BGR2HSV))    \n",
    "    alpha = np.zeros(N)\n",
    "    beta = np.zeros(N)\n",
    "\n",
    "    # labeling\n",
    "    for (i, ch) in enumerate(bgr):\n",
    "        (ret, th) = cv2.threshold(ch, 127, 255, 0)\n",
    "        \n",
    "        if prt:\n",
    "            plt_display('after threshold',img)   \n",
    "    \n",
    "        (ret, labeled, stat, centroids) = cv2.connectedComponentsWithStats(th, None,cv2.CC_STAT_AREA, None, connectivity=8)\n",
    "\n",
    "        # generate ccv\n",
    "        print('stat : {0}'.format(stat.shape))\n",
    "        areas = [[v[4], label_idx] for (label_idx, v) in enumerate(stat)]\n",
    "        coord = [[v[0], v[1]] for (label_idx, v) in enumerate(stat)]\n",
    "\n",
    "        # Counting coherent and incoherent pixels\n",
    "        for (a, c) in zip(areas, coord):\n",
    "            area_size = a[0]\n",
    "            (x, y) = (c[0], c[1])\n",
    "            \n",
    "            if x < ch.shape[1] and y < ch.shape[0]:\n",
    "                bin_idx = int(ch[y, x] // (256 // N))\n",
    "                if area_size >= Threshold:\n",
    "                    # COHERENT PIXELS (belong to area > Threshold pixels )\n",
    "                    alpha[bin_idx]+= area_size\n",
    "                else:\n",
    "                    # INCOHERENT PIXELS (belong to area <= Threshold pixels )\n",
    "                    beta[bin_idx]+= area_size\n",
    "    \n",
    "    return (alpha, beta)\n",
    "\n",
    "def ccv_plot(img,alpha,beta,N):\n",
    "\n",
    "    X = [x for x in range(N * 2)]\n",
    "    Y = alpha.tolist() + beta.tolist()\n",
    "\n",
    "    with open('ccv.csv', 'w') as f:\n",
    "        f.write(str(Y))\n",
    "    \n",
    "    im = cv2.cvtColor(img, cv2.COLOR_BGR2RGB)\n",
    "    plt.subplot(2, 1, 1)\n",
    "    plt.imshow(im)\n",
    "    plt.subplot(2, 1, 2)\n",
    "    plt.bar(X, Y, align='center')\n",
    "\n",
    "    plt.yscale('log')\n",
    "   \n",
    "    plt.show()"
   ]
  },
  {
   "cell_type": "code",
   "execution_count": 188,
   "metadata": {
    "scrolled": false
   },
   "outputs": [
    {
     "name": "stdout",
     "output_type": "stream",
     "text": [
      "stat : (2, 5)\n",
      "stat : (2, 5)\n",
      "stat : (1, 5)\n"
     ]
    },
    {
     "data": {
      "image/png": "[encoded data removed]",
      "text/plain": [
       "<Figure size 432x288 with 2 Axes>"
      ]
     },
     "metadata": {},
     "output_type": "display_data"
    }
   ],
   "source": [
    "path='/Users/jslecointre/Documents/DataScience/courses/MACHINE_LEARNING/TP/data/images/'\n",
    "filename=random.choice(os.listdir(path))\n",
    "img = cv2.imread('{0}{1}'.format(path,filename))\n",
    "im_color=cv2.cvtColor(img, cv2.COLOR_BGR2RGB)\n",
    "im_cropped=GP.crop_image(im_color, 212-80, 212+80)\n",
    "#plt_display('image cropped 160x160',im_cropped)   \n",
    "#im_grey=cv2.cvtColor(img.astype(\"uint8\"), cv2.COLOR_BGR2GRAY)\n",
    "\n",
    "N=32\n",
    "coherence_threshold_percent=0.01\n",
    "alpha, beta = get_ccv(im_cropped, Threshold=im_cropped.shape[0]**2*coherence_threshold_percent,N=N,prt=False)\n",
    "#print('{0},{1}'.format(alpha, beta))\n",
    "CCV = alpha.tolist()+beta.tolist()\n",
    "assert(sum(CCV) == im_cropped.size)\n",
    "assert(N == len(alpha) and N == len(beta))\n",
    "\n",
    "ccv_plot(im_cropped, alpha, beta, N)"
   ]
  },
  {
   "cell_type": "markdown",
   "metadata": {},
   "source": [
    "Introduction et revue de la littérature"
   ]
  },
  {
   "cell_type": "markdown",
   "metadata": {},
   "source": [
    "### Question 2"
   ]
  },
  {
   "cell_type": "markdown",
   "metadata": {},
   "source": [
    "### Question 3"
   ]
  },
  {
   "cell_type": "markdown",
   "metadata": {},
   "source": [
    "### Question 4"
   ]
  },
  {
   "cell_type": "markdown",
   "metadata": {},
   "source": [
    "### Question 5"
   ]
  },
  {
   "cell_type": "markdown",
   "metadata": {},
   "source": [
    "### Conclusion"
   ]
  },
  {
   "cell_type": "markdown",
   "metadata": {},
   "source": [
    "### Bibliographie"
   ]
  }
 ],
 "metadata": {
  "kernelspec": {
   "display_name": "Python 3",
   "language": "python",
   "name": "python3"
  },
  "language_info": {
   "codemirror_mode": {
    "name": "ipython",
    "version": 3
   },
   "file_extension": ".py",
   "mimetype": "text/x-python",
   "name": "python",
   "nbconvert_exporter": "python",
   "pygments_lexer": "ipython3",
   "version": "3.6.6"
  }
 },
 "nbformat": 4,
 "nbformat_minor": 2
}
